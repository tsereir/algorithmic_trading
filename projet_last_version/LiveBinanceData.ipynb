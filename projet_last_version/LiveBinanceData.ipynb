{
 "cells": [
  {
   "cell_type": "code",
   "execution_count": 1,
   "metadata": {},
   "outputs": [],
   "source": [
    "import pandas as pd\n",
    "import time\n",
    "import os\n",
    "import threading\n",
    "import shutil\n",
    "\n",
    "from tqdm import tqdm\n",
    "from binance.client import Client\n",
    "\n",
    "client = Client()"
   ]
  },
  {
   "cell_type": "code",
   "execution_count": null,
   "metadata": {},
   "outputs": [],
   "source": [
    "source_directory = \"/home/tsereir/tsereir/projets/algorithmic_trading/data/worstPerformers\"\n",
    "destination_directory = \"/home/tsereir/tsereir/projets/algorithmic_trading/data/worstPerformers\"\n",
    "\n",
    "for filename in os.listdir(source_directory):\n",
    "    if filename.startswith(\"top_performers_\") and filename.endswith('.parquet'):\n",
    "        date_time_part = filename.replace(\"top_performers_\", \"\", 1)\n",
    "\n",
    "        source_file = os.path.join(source_directory, filename)\n",
    "        \n",
    "        destination_file = os.path.join(destination_directory, date_time_part)\n",
    "\n",
    "        shutil.move(source_file, destination_file)\n",
    "        print(f\"Fichier {filename} déplacé et renommé en {date_time_part}\")"
   ]
  },
  {
   "cell_type": "markdown",
   "metadata": {},
   "source": [
    "### All tradable assets in this dictionnary"
   ]
  },
  {
   "cell_type": "code",
   "execution_count": 3,
   "metadata": {},
   "outputs": [],
   "source": [
    "info = client.get_exchange_info()"
   ]
  },
  {
   "cell_type": "code",
   "execution_count": 9,
   "metadata": {},
   "outputs": [],
   "source": [
    "symbols = [x['symbol'] for x in info['symbols']]"
   ]
  },
  {
   "cell_type": "code",
   "execution_count": 16,
   "metadata": {},
   "outputs": [
    {
     "data": {
      "text/plain": [
       "2766"
      ]
     },
     "execution_count": 16,
     "metadata": {},
     "output_type": "execute_result"
    }
   ],
   "source": [
    "len(symbols)"
   ]
  },
  {
   "cell_type": "code",
   "execution_count": 15,
   "metadata": {},
   "outputs": [],
   "source": [
    "#exclude leveraged tokens\n",
    "exclude = ['UP', 'DOWN', 'BEAR', 'BULL']\n",
    "non_lev = [ symbol for symbol in symbols if all(excludes not in symbol for excludes in exclude)]"
   ]
  },
  {
   "cell_type": "code",
   "execution_count": 14,
   "metadata": {},
   "outputs": [
    {
     "data": {
      "text/plain": [
       "2697"
      ]
     },
     "execution_count": 14,
     "metadata": {},
     "output_type": "execute_result"
    }
   ],
   "source": [
    "len(non_lev)"
   ]
  },
  {
   "cell_type": "markdown",
   "metadata": {},
   "source": [
    "### Keep only usdt pair"
   ]
  },
  {
   "cell_type": "code",
   "execution_count": 17,
   "metadata": {},
   "outputs": [],
   "source": [
    "relevant = [symbol for symbol in non_lev if symbol.endswith('USDT')]"
   ]
  },
  {
   "cell_type": "code",
   "execution_count": 19,
   "metadata": {},
   "outputs": [
    {
     "data": {
      "text/plain": [
       "471"
      ]
     },
     "execution_count": 19,
     "metadata": {},
     "output_type": "execute_result"
    }
   ],
   "source": [
    "len(relevant)"
   ]
  },
  {
   "cell_type": "code",
   "execution_count": 20,
   "metadata": {},
   "outputs": [],
   "source": [
    "klines = {}"
   ]
  },
  {
   "cell_type": "markdown",
   "metadata": {},
   "source": [
    "### Get 1 minute candles for each symbol"
   ]
  },
  {
   "cell_type": "code",
   "execution_count": 21,
   "metadata": {},
   "outputs": [
    {
     "name": "stderr",
     "output_type": "stream",
     "text": [
      "100%|██████████| 471/471 [04:22<00:00,  1.80it/s]\n"
     ]
    }
   ],
   "source": [
    "for symbol in tqdm(relevant) : \n",
    "    klines[symbol] = client.get_historical_klines(symbol, '1m', '1 hour ago UTC')"
   ]
  },
  {
   "cell_type": "code",
   "execution_count": 25,
   "metadata": {},
   "outputs": [
    {
     "data": {
      "text/plain": [
       "0.00021125056342108373"
      ]
     },
     "execution_count": 25,
     "metadata": {},
     "output_type": "execute_result"
    }
   ],
   "source": [
    "(pd.DataFrame(klines['BTCUSDT'])[4].astype(float).pct_change() + 1 ).prod() -1 #4 column is the close"
   ]
  },
  {
   "cell_type": "code",
   "execution_count": 26,
   "metadata": {},
   "outputs": [],
   "source": [
    "returns, symbols = [], []\n",
    "\n",
    "for symbol in relevant:\n",
    "    if len(klines[symbol]) > 0 : \n",
    "        cumret = (pd.DataFrame(klines[symbol])[4].astype(float).pct_change() + 1 ).prod() - 1\n",
    "        returns.append(cumret)\n",
    "        symbols.append(symbol)"
   ]
  },
  {
   "cell_type": "code",
   "execution_count": 27,
   "metadata": {},
   "outputs": [],
   "source": [
    "retdf = pd.DataFrame(returns, index=symbols, columns=['ret'])"
   ]
  },
  {
   "cell_type": "code",
   "execution_count": 28,
   "metadata": {},
   "outputs": [
    {
     "data": {
      "text/plain": [
       "API3USDT     0.043275\n",
       "OAXUSDT      0.034763\n",
       "ZECUSDT      0.024750\n",
       "DYDXUSDT     0.016505\n",
       "MOVRUSDT     0.015326\n",
       "FTTUSDT      0.014781\n",
       "RAYUSDT      0.012847\n",
       "BTTCUSDT     0.011628\n",
       "MAGICUSDT    0.010071\n",
       "AGLDUSDT     0.008056\n",
       "Name: ret, dtype: float64"
      ]
     },
     "execution_count": 28,
     "metadata": {},
     "output_type": "execute_result"
    }
   ],
   "source": [
    "retdf.ret.nlargest(10)"
   ]
  },
  {
   "cell_type": "markdown",
   "metadata": {},
   "source": [
    "### Function that return the top performers"
   ]
  },
  {
   "cell_type": "code",
   "execution_count": 34,
   "metadata": {},
   "outputs": [],
   "source": [
    "import pandas as pd\n",
    "\n",
    "def get_top_performer(client, interval, duration, n=10):\n",
    "    info = client.get_exchange_info()\n",
    "    symbols = [x['symbol'] for x in info['symbols']]\n",
    "    \n",
    "    #exclure les tokens à effet de levier\n",
    "    exclude = ['UP', 'DOWN', 'BEAR', 'BULL']\n",
    "    non_lev = [symbol for symbol in symbols if all(excludes not in symbol for excludes in exclude)]\n",
    "    relevant_symbols = [symbol for symbol in non_lev if symbol.endswith('USDT')]\n",
    "    \n",
    "    #récupérer les données de marché pour chaque symbole\n",
    "    returns, selected_symbols = [], []\n",
    "    for symbol in tqdm(relevant_symbols):\n",
    "        klines = client.get_historical_klines(symbol=symbol, interval=interval, start_str=duration)\n",
    "        \n",
    "        if len(klines) > 0:\n",
    "            #calcul du rendement cumulé\n",
    "            df = pd.DataFrame(klines)\n",
    "            df_close_prices = df[4].astype(float)  \n",
    "            cumret = (df_close_prices.pct_change() + 1).prod() - 1\n",
    "            \n",
    "            returns.append(cumret)\n",
    "            selected_symbols.append(symbol)\n",
    "    \n",
    "    #construire un DataFrame pour les rendements\n",
    "    retdf = pd.DataFrame(returns, index=selected_symbols, columns=['ret'])\n",
    "    return retdf.ret.nlargest(n)\n"
   ]
  },
  {
   "cell_type": "code",
   "execution_count": 35,
   "metadata": {},
   "outputs": [
    {
     "name": "stderr",
     "output_type": "stream",
     "text": [
      "100%|██████████| 471/471 [04:34<00:00,  1.72it/s]\n"
     ]
    }
   ],
   "source": [
    "top_performers = get_top_performer(client, '1m',  '10 minutes ago UTC', n=10)\n"
   ]
  },
  {
   "cell_type": "code",
   "execution_count": 36,
   "metadata": {},
   "outputs": [
    {
     "data": {
      "text/plain": [
       "KP3RUSDT     0.026362\n",
       "TROYUSDT     0.025681\n",
       "APEUSDT      0.018535\n",
       "RAYUSDT      0.008809\n",
       "TURBOUSDT    0.008788\n",
       "FTMUSDT      0.007834\n",
       "RIFUSDT      0.006674\n",
       "MEMEUSDT     0.005793\n",
       "SKLUSDT      0.005366\n",
       "OOKIUSDT     0.004673\n",
       "Name: ret, dtype: float64"
      ]
     },
     "execution_count": 36,
     "metadata": {},
     "output_type": "execute_result"
    }
   ],
   "source": [
    "top_performers"
   ]
  },
  {
   "cell_type": "markdown",
   "metadata": {},
   "source": [
    "### Same with multithreading, 20 time faster"
   ]
  },
  {
   "cell_type": "code",
   "execution_count": 25,
   "metadata": {},
   "outputs": [],
   "source": [
    "from datetime import datetime\n",
    "\n",
    "def get_history(client, symbol, interval, duration):\n",
    "    time.sleep(0.01)  #délai pour contourner la limite de l'API\n",
    "    return client.get_historical_klines(symbol=symbol, interval=interval, start_str=duration)\n",
    "\n",
    "def get_top_performer_multithreading(client, interval, duration, n=10):\n",
    "    #informations sur les symboles\n",
    "    info = client.get_exchange_info()\n",
    "    symbols = [x['symbol'] for x in info['symbols']]\n",
    "    #exclure les tokens à effet de levier\n",
    "    exclude = ['UP', 'DOWN', 'BEAR', 'BULL']\n",
    "    non_lev = [symbol for symbol in symbols if all(excludes not in symbol for excludes in exclude)]\n",
    "    relevant_symbols = [symbol for symbol in non_lev if symbol.endswith('USDT')]\n",
    "\n",
    "    #créer une liste pour stocker les données et une pour les rendements\n",
    "    returns, selected_symbols, dates = [], [], []\n",
    "    klines_data = [None] * len(relevant_symbols)\n",
    "    \n",
    "    #fonction pour récupérer les données en parallèle\n",
    "    def _helper(i):\n",
    "        klines_data[i] = get_history(client, relevant_symbols[i], interval, duration)\n",
    "    \n",
    "    #créer et lancer les threads\n",
    "    threads = [threading.Thread(target=_helper, args=(i,)) for i in range(len(relevant_symbols))]\n",
    "    for thread in threads:\n",
    "        thread.start()\n",
    "    for thread in tqdm(threads):\n",
    "        thread.join()\n",
    "    \n",
    "    #calcul des rendements\n",
    "    for i, klines in enumerate(klines_data):\n",
    "        if klines and len(klines) > 0:\n",
    "            df = pd.DataFrame(klines)\n",
    "            df_close_prices = df[4].astype(float)  # La colonne des prix de clôture\n",
    "            cumret = (df_close_prices.pct_change() + 1).prod() - 1\n",
    "            \n",
    "            start_date = pd.to_datetime(df.iloc[0, 0], unit='ms')\n",
    "            end_date = pd.to_datetime(df.iloc[-1, 0], unit='ms')\n",
    "            \n",
    "            returns.append(cumret)\n",
    "            selected_symbols.append(relevant_symbols[i])\n",
    "            dates.append((start_date, end_date))\n",
    "\n",
    "    \n",
    "    retdf = pd.DataFrame({\n",
    "        'ret': returns,\n",
    "        'start_date': [d[0] for d in dates],\n",
    "        'end_date': [d[1] for d in dates]\n",
    "    }, index=selected_symbols)\n",
    "\n",
    "    result = retdf.nlargest(n, 'ret')\n",
    "    \n",
    "    result = retdf.nlargest(n, 'ret')\n",
    "    \n",
    "    top_end_date = result['end_date'].iloc[0]\n",
    "    # date_str = datetime.now().strftime(\"%Y-%m-%d\")\n",
    "    date_str = top_end_date.strftime(\"%Y-%m-%d_%H-%M-%S\")\n",
    "    file_path = f\"C:/Users/tariq/algorithmic_trading/data/topPerformers/top_performers_{date_str}.parquet\"\n",
    "    \n",
    "    # Sauvegarder le résultat en parquet\n",
    "    result.to_parquet(file_path)    \n",
    "    print(\"ajout effectué pour la date : \", date_str)\n",
    "    return retdf.nlargest(n, 'ret')"
   ]
  },
  {
   "cell_type": "code",
   "execution_count": 35,
   "metadata": {},
   "outputs": [
    {
     "name": "stderr",
     "output_type": "stream",
     "text": [
      "100%|██████████| 472/472 [00:06<00:00, 77.09it/s] \n"
     ]
    }
   ],
   "source": [
    "top_performers = get_top_performer_multithreading(client, '1m',  '6 minutes ago UTC', n=1)"
   ]
  },
  {
   "cell_type": "code",
   "execution_count": 36,
   "metadata": {},
   "outputs": [
    {
     "data": {
      "text/html": [
       "<div>\n",
       "<style scoped>\n",
       "    .dataframe tbody tr th:only-of-type {\n",
       "        vertical-align: middle;\n",
       "    }\n",
       "\n",
       "    .dataframe tbody tr th {\n",
       "        vertical-align: top;\n",
       "    }\n",
       "\n",
       "    .dataframe thead th {\n",
       "        text-align: right;\n",
       "    }\n",
       "</style>\n",
       "<table border=\"1\" class=\"dataframe\">\n",
       "  <thead>\n",
       "    <tr style=\"text-align: right;\">\n",
       "      <th></th>\n",
       "      <th>ret</th>\n",
       "      <th>start_date</th>\n",
       "      <th>end_date</th>\n",
       "    </tr>\n",
       "  </thead>\n",
       "  <tbody>\n",
       "    <tr>\n",
       "      <th>VIBUSDT</th>\n",
       "      <td>0.018115</td>\n",
       "      <td>2024-11-02 14:03:00</td>\n",
       "      <td>2024-11-02 14:08:00</td>\n",
       "    </tr>\n",
       "  </tbody>\n",
       "</table>\n",
       "</div>"
      ],
      "text/plain": [
       "              ret          start_date            end_date\n",
       "VIBUSDT  0.018115 2024-11-02 14:03:00 2024-11-02 14:08:00"
      ]
     },
     "execution_count": 36,
     "metadata": {},
     "output_type": "execute_result"
    }
   ],
   "source": [
    "top_performers"
   ]
  },
  {
   "cell_type": "code",
   "execution_count": 27,
   "metadata": {},
   "outputs": [],
   "source": [
    "top_perf = pd.read_parquet(\"C:\\\\Users\\\\tariq\\\\algorithmic_trading\\\\data\\\\topPerformers\\\\top_performers_2024-11-02_14-04-00.parquet\")"
   ]
  },
  {
   "cell_type": "code",
   "execution_count": 34,
   "metadata": {},
   "outputs": [
    {
     "data": {
      "text/html": [
       "<div>\n",
       "<style scoped>\n",
       "    .dataframe tbody tr th:only-of-type {\n",
       "        vertical-align: middle;\n",
       "    }\n",
       "\n",
       "    .dataframe tbody tr th {\n",
       "        vertical-align: top;\n",
       "    }\n",
       "\n",
       "    .dataframe thead th {\n",
       "        text-align: right;\n",
       "    }\n",
       "</style>\n",
       "<table border=\"1\" class=\"dataframe\">\n",
       "  <thead>\n",
       "    <tr style=\"text-align: right;\">\n",
       "      <th></th>\n",
       "      <th>ret</th>\n",
       "      <th>start_date</th>\n",
       "      <th>end_date</th>\n",
       "    </tr>\n",
       "  </thead>\n",
       "  <tbody>\n",
       "    <tr>\n",
       "      <th>KP3RUSDT</th>\n",
       "      <td>0.03483</td>\n",
       "      <td>2024-11-02 14:00:00</td>\n",
       "      <td>2024-11-02 14:04:00</td>\n",
       "    </tr>\n",
       "  </tbody>\n",
       "</table>\n",
       "</div>"
      ],
      "text/plain": [
       "              ret          start_date            end_date\n",
       "KP3RUSDT  0.03483 2024-11-02 14:00:00 2024-11-02 14:04:00"
      ]
     },
     "execution_count": 34,
     "metadata": {},
     "output_type": "execute_result"
    }
   ],
   "source": [
    "top_perf"
   ]
  },
  {
   "cell_type": "code",
   "execution_count": 38,
   "metadata": {},
   "outputs": [
    {
     "data": {
      "text/html": [
       "<div>\n",
       "<style scoped>\n",
       "    .dataframe tbody tr th:only-of-type {\n",
       "        vertical-align: middle;\n",
       "    }\n",
       "\n",
       "    .dataframe tbody tr th {\n",
       "        vertical-align: top;\n",
       "    }\n",
       "\n",
       "    .dataframe thead th {\n",
       "        text-align: right;\n",
       "    }\n",
       "</style>\n",
       "<table border=\"1\" class=\"dataframe\">\n",
       "  <thead>\n",
       "    <tr style=\"text-align: right;\">\n",
       "      <th></th>\n",
       "      <th>ret</th>\n",
       "      <th>start_date</th>\n",
       "      <th>end_date</th>\n",
       "    </tr>\n",
       "  </thead>\n",
       "  <tbody>\n",
       "    <tr>\n",
       "      <th>UNFIUSDT</th>\n",
       "      <td>0.012172</td>\n",
       "      <td>2024-11-02 14:56:00</td>\n",
       "      <td>2024-11-02 14:59:00</td>\n",
       "    </tr>\n",
       "  </tbody>\n",
       "</table>\n",
       "</div>"
      ],
      "text/plain": [
       "               ret          start_date            end_date\n",
       "UNFIUSDT  0.012172 2024-11-02 14:56:00 2024-11-02 14:59:00"
      ]
     },
     "execution_count": 38,
     "metadata": {},
     "output_type": "execute_result"
    }
   ],
   "source": [
    "topp = pd.read_parquet(\"C:\\\\Users\\\\tariq\\\\algorithmic_trading\\\\data\\\\topPerformers\\\\top_performers_2024-11-02_14-59-00.parquet\")\n",
    "topp"
   ]
  },
  {
   "cell_type": "code",
   "execution_count": 57,
   "metadata": {},
   "outputs": [],
   "source": [
    "top_performers_path = \"C:\\\\Users\\\\tariq\\\\algorithmic_trading\\\\data\\\\topPerformers\""
   ]
  },
  {
   "cell_type": "markdown",
   "metadata": {},
   "source": [
    "# Backtest"
   ]
  },
  {
   "cell_type": "code",
   "execution_count": 3,
   "metadata": {},
   "outputs": [
    {
     "name": "stdout",
     "output_type": "stream",
     "text": [
      "               ret          start_date            end_date\n",
      "ARKMUSDT -0.013889 2024-11-20 16:14:00 2024-11-20 16:17:00\n"
     ]
    }
   ],
   "source": [
    "import os\n",
    "import pandas as pd\n",
    "top_performers_path = \"C:\\\\Users\\\\tariq\\\\algorithmic_trading\\\\data\\\\topPerformers\"\n",
    "\n",
    "worst_performer_path = \"/home/tsereir/tsereir/projets/algorithmic_trading/data/worstPerformers\"\n",
    "worst_file_list = os.listdir(worst_performer_path)\n",
    "count = 0\n",
    "for file in worst_file_list : \n",
    "    count+=1   \n",
    "     \n",
    "    path = os.path.join(worst_performer_path, file)\n",
    "    df = pd.read_parquet(path)\n",
    "    if count==1:\n",
    "        print(df)\n",
    "        "
   ]
  },
  {
   "cell_type": "code",
   "execution_count": 230,
   "metadata": {},
   "outputs": [
    {
     "name": "stdout",
     "output_type": "stream",
     "text": [
      "nb de fichier : 121\n",
      "nombre de ticker presents une seule fois dans les top performers :  22\n",
      "{'OMNIUSDT': 1, 'REIUSDT': 1, 'FLUXUSDT': 1, 'WINGUSDT': 1, 'GUSDT': 1, 'VOXELUSDT': 1, 'DEXEUSDT': 1, 'BICOUSDT': 1, 'FTTUSDT': 1, 'EDUUSDT': 1, 'SUNUSDT': 1, 'ARKMUSDT': 1, 'SNTUSDT': 1, 'ALPHAUSDT': 1, 'OGUSDT': 1, 'CVXUSDT': 1, 'NEIROUSDT': 1, 'SANTOSUSDT': 1, 'SCUSDT': 1, 'AVAXUSDT': 1, 'LTOUSDT': 1, 'BARUSDT': 1, 'LUMIAUSDT': 2, 'RADUSDT': 2, 'AUDIOUSDT': 2, 'GLMRUSDT': 2, 'PYRUSDT': 2, 'HARDUSDT': 2, 'STRAXUSDT': 2, 'OAXUSDT': 2, 'WUSDT': 3, 'TROYUSDT': 3, 'RAREUSDT': 3, 'VIBUSDT': 4, 'SXPUSDT': 4, 'OGNUSDT': 5, 'VIDTUSDT': 5, 'PROSUSDT': 5, 'KP3RUSDT': 5, 'CVCUSDT': 5, 'BTTCUSDT': 11, 'OOKIUSDT': 13, 'UNFIUSDT': 17}\n"
     ]
    }
   ],
   "source": [
    "import sys\n",
    "import os\n",
    "from os.path import join, getsize\n",
    "\n",
    "top_performers_path = \"C:\\\\Users\\\\tariq\\\\algorithmic_trading\\\\data\\\\topPerformers\"\n",
    "top_performers_dates = {}\n",
    "files_list = os.listdir(top_performers_path)\n",
    "\n",
    "ticker_counter = {}\n",
    "\n",
    "count = 0\n",
    "bttc_count = 0\n",
    "for file_name in files_list:\n",
    "    count +=1\n",
    "    file_path = os.path.join(top_performers_path, file_name)\n",
    "    df = pd.read_parquet(file_path)\n",
    "    # print(df.index)\n",
    "    if df.index[0] not in ticker_counter.keys():\n",
    "        ticker_counter[df.index[0]] = 1\n",
    "    else : \n",
    "        ticker_counter[df.index[0]] +=1\n",
    "\n",
    "    if df.index == \"BTTCUSDT\":\n",
    "        bttc_count+=1  \n",
    "unique = 0\n",
    "for file_name in files_list : \n",
    "    file_path = os.path.join(top_performers_path, file_name)\n",
    "    df = pd.read_parquet(file_path)\n",
    "    if ticker_counter[df.index[0]] ==1:\n",
    "        unique+=1\n",
    "\n",
    "    # display(df)\n",
    "print(\"nb de fichier :\", count)\n",
    "print(\"nombre de ticker presents une seule fois dans les top performers : \", unique)\n",
    "# print(\"nb de fois que bttc est apparu\", bttc_count)\n",
    "print(dict(sorted(ticker_counter.items(), key=lambda item: item[1])))"
   ]
  },
  {
   "cell_type": "markdown",
   "metadata": {},
   "source": [
    "### Take data from binance"
   ]
  },
  {
   "cell_type": "code",
   "execution_count": 2,
   "metadata": {},
   "outputs": [],
   "source": [
    "import time as tm\n",
    "def get_history(client, symbol, interval, start_str, end_str):\n",
    "    tm.sleep(0.01)  \n",
    "    return client.get_historical_klines(symbol=symbol, interval=interval, start_str=start_str, end_str=end_str)\n"
   ]
  },
  {
   "cell_type": "markdown",
   "metadata": {},
   "source": [
    "### Download top performers data"
   ]
  },
  {
   "cell_type": "code",
   "execution_count": 61,
   "metadata": {},
   "outputs": [],
   "source": [
    "top_performers_path = \"C:\\\\Users\\\\tariq\\\\algorithmic_trading\\\\data\\\\topPerformers\"\n",
    "top_performers_output_path = \"C:\\\\Users\\\\tariq\\\\algorithmic_trading\\\\data\\\\topPerformersData\"\n",
    "\n",
    "worst_performer_path = \"/home/tsereir/tsereir/projets/algorithmic_trading/data/worstPerformers\"\n",
    "worst_performer_output_path = \"/home/tsereir/tsereir/projets/algorithmic_trading/data/worstPerformersData\""
   ]
  },
  {
   "cell_type": "code",
   "execution_count": null,
   "metadata": {},
   "outputs": [],
   "source": [
    "\n",
    "from datetime import timedelta\n",
    "\n",
    "import time as tm\n",
    "def get_history(client, symbol, interval, start_str, end_str):\n",
    "    tm.sleep(0.01)  \n",
    "    return client.get_historical_klines(symbol=symbol, interval=interval, start_str=start_str, end_str=end_str)\n",
    "\n",
    "\n",
    "\n",
    "def download_top_performers_data(client, performer_path, output_path):\n",
    "    fichier_ajout =0\n",
    "\n",
    "    files_list = os.listdir(performer_path)\n",
    "    print(\"Nombre de fichiers à traiter : \", len(files_list))\n",
    "    for file_name in tqdm(files_list):\n",
    "        file_path = os.path.join(performer_path, file_name)\n",
    "        df = pd.read_parquet(file_path)\n",
    "        for ticker, row in df.iterrows():\n",
    "            end_date = pd.to_datetime(row['end_date'])  \n",
    "            start_str = end_date.strftime(\"%Y-%m-%d %H:%M:%S\")\n",
    "\n",
    "            # end_ts = end_date + timedelta(hours=2)\n",
    "            end_ts = end_date + timedelta(hours=10)\n",
    "            \n",
    "            end_str = end_ts.strftime(\"%Y-%m-%d %H:%M:%S\")\n",
    "            \n",
    "            output_file = os.path.join(output_path, f\"{ticker}_{start_str.replace(':', '-')}.parquet\")\n",
    "            if os.path.exists(output_file):\n",
    "                file = pd.read_parquet(output_file)\n",
    "\n",
    "#on prends 1200 minutes -> 20 heures (donc duree de vie d'un trade est de max 20 heures apres l'achat ou la vente du top ou worst performer)\n",
    "                if len(file) > 600:\n",
    "                    # print(f\"Fichier {output_file} a \", {len(file)}, \" lignes, passage au suivant.\")\n",
    "                    # print(f\"Fichier {output_file} déjà téléchargé, passage au suivant.\")\n",
    "                    continue\n",
    "                # print(f\"Fichier {output_file} déjà téléchargé, passage au suivant.\")\n",
    "                # continue\n",
    "\n",
    "            data = get_history(client, ticker, '1m', start_str, end_str)            \n",
    "            df_data = pd.DataFrame(data)\n",
    "            if not df_data.empty:\n",
    "                df_data['close'] = df_data[4].astype(float)\n",
    "                df_data[\"date\"] = pd.to_datetime(df_data[0], unit='ms') \n",
    "                df_data = df_data[['date', 'close']].set_index('date')\n",
    "                df_data.to_parquet(output_file)\n",
    "                # print(f\"Fichier {output_file} téléchargé et enregistré.\")"
   ]
  },
  {
   "cell_type": "code",
   "execution_count": 68,
   "metadata": {},
   "outputs": [
    {
     "name": "stdout",
     "output_type": "stream",
     "text": [
      "Nombre de fichiers à traiter :  1345\n"
     ]
    },
    {
     "name": "stderr",
     "output_type": "stream",
     "text": [
      "100%|███████████████████████████████████████████████████████████████████████████████████████████████████████████████████████████████████████████████████████████████████████████████████████████████████████████| 1345/1345 [09:10<00:00,  2.44it/s]\n"
     ]
    }
   ],
   "source": [
    "import warnings\n",
    "warnings.filterwarnings('ignore')\n",
    "download_top_performers_data(client, worst_performer_path, worst_performer_output_path) "
   ]
  },
  {
   "cell_type": "markdown",
   "metadata": {},
   "source": [
    "### Add return to files"
   ]
  },
  {
   "cell_type": "code",
   "execution_count": 70,
   "metadata": {},
   "outputs": [],
   "source": [
    "def add_cumret(top_performers_data_path):\n",
    "    files_list = os.listdir(top_performers_data_path)\n",
    "    \n",
    "    for file_name in files_list:\n",
    "        file_path = os.path.join(top_performers_data_path, file_name)        \n",
    "        df = pd.read_parquet(file_path)        \n",
    "        if 'return' in df.columns:\n",
    "            print(f\"La colonne 'return' existe déjà dans {file_name}.\")\n",
    "            continue\n",
    "        \n",
    "        if 'close' in df.columns:\n",
    "            df['return'] = (df['close'].pct_change() + 1).cumprod() - 1            \n",
    "            df.to_parquet(file_path)\n",
    "            print(f\"Colonne 'return' ajoutée dans {file_name}.\")\n",
    "        else:\n",
    "            print(f\"Fichier {file_name} ne contient pas la colonne 'close'.\")"
   ]
  },
  {
   "cell_type": "code",
   "execution_count": null,
   "metadata": {},
   "outputs": [],
   "source": [
    "add_cumret(worst_performer_output_path)"
   ]
  },
  {
   "cell_type": "markdown",
   "metadata": {},
   "source": [
    "### Perform backtest"
   ]
  },
  {
   "cell_type": "code",
   "execution_count": 72,
   "metadata": {},
   "outputs": [],
   "source": [
    "def perform_backtest(top_performers_data_path, tp, sl):\n",
    "    winning_trade = 0\n",
    "    losing_trade = 0\n",
    "    results = []\n",
    "\n",
    "    files_list = os.listdir(top_performers_data_path)\n",
    "    \n",
    "    for file_name in files_list:\n",
    "        if 'BTTCUSDT' in file_name:\n",
    "            print(f\"Le fichier {file_name} concerne le ticker BTTCUSDT, skipping...\")\n",
    "            continue\n",
    "\n",
    "        file_path = os.path.join(top_performers_data_path, file_name)\n",
    "        df = pd.read_parquet(file_path)   \n",
    "        \n",
    "        if 'return' not in df.columns:\n",
    "            print(f\"Le fichier {file_name} ne contient pas la colonne 'return'.\")\n",
    "            continue\n",
    "        \n",
    "        entry_price = df['close'].iloc[0]\n",
    "        trade_active = True\n",
    "        \n",
    "        # Itérer sur chaque ligne du DataFrame\n",
    "        for index, row in df.iterrows():\n",
    "            current_return = row['return']\n",
    "            current_price = row['close']\n",
    "\n",
    "            if trade_active:\n",
    "                if current_return > tp:\n",
    "                    winning_trade += 1\n",
    "                    results.append({\n",
    "                        'file': file_name,\n",
    "                        'result': 'win',\n",
    "                        'entry_price': entry_price,\n",
    "                        'exit_price': current_price\n",
    "                    })\n",
    "                    trade_active = False  # Terminer le trade\n",
    "                    break  # Passer au fichier suivant\n",
    "                \n",
    "                elif current_return < -sl:\n",
    "                    losing_trade += 1\n",
    "                    results.append({\n",
    "                        'file': file_name,\n",
    "                        'result': 'loss',\n",
    "                        'entry_price': entry_price,\n",
    "                        'exit_price': current_price\n",
    "                    })\n",
    "                    trade_active = False  \n",
    "                    break  \n",
    "        \n",
    "    # print(f\"Total des trades gagnants: {winning_trade}, Total des trades perdants: {losing_trade}\")\n",
    "    # results_df = pd.DataFrame(results)\n",
    "    return winning_trade, losing_trade"
   ]
  },
  {
   "cell_type": "code",
   "execution_count": 45,
   "metadata": {},
   "outputs": [
    {
     "name": "stdout",
     "output_type": "stream",
     "text": [
      "(404, 399)\n"
     ]
    }
   ],
   "source": [
    "print(perform_backtest(worst_performer_output_path, 0.02, 0.02) )"
   ]
  },
  {
   "cell_type": "code",
   "execution_count": 267,
   "metadata": {},
   "outputs": [
    {
     "name": "stdout",
     "output_type": "stream",
     "text": [
      "Total des trades gagnants: 36, Total des trades perdants: 87\n"
     ]
    }
   ],
   "source": [
    "result_2 = perform_backtest(output_path, tp=0.01, sl=0.01)"
   ]
  },
  {
   "cell_type": "markdown",
   "metadata": {},
   "source": [
    "### Verifications des données"
   ]
  },
  {
   "cell_type": "code",
   "execution_count": 46,
   "metadata": {},
   "outputs": [
    {
     "data": {
      "text/html": [
       "<div>\n",
       "<style scoped>\n",
       "    .dataframe tbody tr th:only-of-type {\n",
       "        vertical-align: middle;\n",
       "    }\n",
       "\n",
       "    .dataframe tbody tr th {\n",
       "        vertical-align: top;\n",
       "    }\n",
       "\n",
       "    .dataframe thead th {\n",
       "        text-align: right;\n",
       "    }\n",
       "</style>\n",
       "<table border=\"1\" class=\"dataframe\">\n",
       "  <thead>\n",
       "    <tr style=\"text-align: right;\">\n",
       "      <th></th>\n",
       "      <th>close</th>\n",
       "      <th>return</th>\n",
       "    </tr>\n",
       "    <tr>\n",
       "      <th>date</th>\n",
       "      <th></th>\n",
       "      <th></th>\n",
       "    </tr>\n",
       "  </thead>\n",
       "  <tbody>\n",
       "    <tr>\n",
       "      <th>2024-11-21 15:44:00</th>\n",
       "      <td>0.006065</td>\n",
       "      <td>NaN</td>\n",
       "    </tr>\n",
       "    <tr>\n",
       "      <th>2024-11-21 15:45:00</th>\n",
       "      <td>0.006133</td>\n",
       "      <td>0.011212</td>\n",
       "    </tr>\n",
       "    <tr>\n",
       "      <th>2024-11-21 15:46:00</th>\n",
       "      <td>0.006116</td>\n",
       "      <td>0.008409</td>\n",
       "    </tr>\n",
       "    <tr>\n",
       "      <th>2024-11-21 15:47:00</th>\n",
       "      <td>0.006157</td>\n",
       "      <td>0.015169</td>\n",
       "    </tr>\n",
       "    <tr>\n",
       "      <th>2024-11-21 15:48:00</th>\n",
       "      <td>0.006160</td>\n",
       "      <td>0.015664</td>\n",
       "    </tr>\n",
       "  </tbody>\n",
       "</table>\n",
       "</div>"
      ],
      "text/plain": [
       "                        close    return\n",
       "date                                   \n",
       "2024-11-21 15:44:00  0.006065       NaN\n",
       "2024-11-21 15:45:00  0.006133  0.011212\n",
       "2024-11-21 15:46:00  0.006116  0.008409\n",
       "2024-11-21 15:47:00  0.006157  0.015169\n",
       "2024-11-21 15:48:00  0.006160  0.015664"
      ]
     },
     "metadata": {},
     "output_type": "display_data"
    },
    {
     "data": {
      "text/html": [
       "<div>\n",
       "<style scoped>\n",
       "    .dataframe tbody tr th:only-of-type {\n",
       "        vertical-align: middle;\n",
       "    }\n",
       "\n",
       "    .dataframe tbody tr th {\n",
       "        vertical-align: top;\n",
       "    }\n",
       "\n",
       "    .dataframe thead th {\n",
       "        text-align: right;\n",
       "    }\n",
       "</style>\n",
       "<table border=\"1\" class=\"dataframe\">\n",
       "  <thead>\n",
       "    <tr style=\"text-align: right;\">\n",
       "      <th></th>\n",
       "      <th>close</th>\n",
       "      <th>return</th>\n",
       "    </tr>\n",
       "    <tr>\n",
       "      <th>date</th>\n",
       "      <th></th>\n",
       "      <th></th>\n",
       "    </tr>\n",
       "  </thead>\n",
       "  <tbody>\n",
       "    <tr>\n",
       "      <th>2024-11-21 20:36:00</th>\n",
       "      <td>3.266</td>\n",
       "      <td>NaN</td>\n",
       "    </tr>\n",
       "    <tr>\n",
       "      <th>2024-11-21 20:37:00</th>\n",
       "      <td>3.262</td>\n",
       "      <td>-0.001225</td>\n",
       "    </tr>\n",
       "    <tr>\n",
       "      <th>2024-11-21 20:38:00</th>\n",
       "      <td>3.257</td>\n",
       "      <td>-0.002756</td>\n",
       "    </tr>\n",
       "    <tr>\n",
       "      <th>2024-11-21 20:39:00</th>\n",
       "      <td>3.261</td>\n",
       "      <td>-0.001531</td>\n",
       "    </tr>\n",
       "    <tr>\n",
       "      <th>2024-11-21 20:40:00</th>\n",
       "      <td>3.261</td>\n",
       "      <td>-0.001531</td>\n",
       "    </tr>\n",
       "  </tbody>\n",
       "</table>\n",
       "</div>"
      ],
      "text/plain": [
       "                     close    return\n",
       "date                                \n",
       "2024-11-21 20:36:00  3.266       NaN\n",
       "2024-11-21 20:37:00  3.262 -0.001225\n",
       "2024-11-21 20:38:00  3.257 -0.002756\n",
       "2024-11-21 20:39:00  3.261 -0.001531\n",
       "2024-11-21 20:40:00  3.261 -0.001531"
      ]
     },
     "metadata": {},
     "output_type": "display_data"
    },
    {
     "data": {
      "text/html": [
       "<div>\n",
       "<style scoped>\n",
       "    .dataframe tbody tr th:only-of-type {\n",
       "        vertical-align: middle;\n",
       "    }\n",
       "\n",
       "    .dataframe tbody tr th {\n",
       "        vertical-align: top;\n",
       "    }\n",
       "\n",
       "    .dataframe thead th {\n",
       "        text-align: right;\n",
       "    }\n",
       "</style>\n",
       "<table border=\"1\" class=\"dataframe\">\n",
       "  <thead>\n",
       "    <tr style=\"text-align: right;\">\n",
       "      <th></th>\n",
       "      <th>close</th>\n",
       "      <th>return</th>\n",
       "    </tr>\n",
       "    <tr>\n",
       "      <th>date</th>\n",
       "      <th></th>\n",
       "      <th></th>\n",
       "    </tr>\n",
       "  </thead>\n",
       "  <tbody>\n",
       "    <tr>\n",
       "      <th>2024-11-21 16:32:00</th>\n",
       "      <td>0.1052</td>\n",
       "      <td>NaN</td>\n",
       "    </tr>\n",
       "    <tr>\n",
       "      <th>2024-11-21 16:33:00</th>\n",
       "      <td>0.1051</td>\n",
       "      <td>-0.000951</td>\n",
       "    </tr>\n",
       "    <tr>\n",
       "      <th>2024-11-21 16:34:00</th>\n",
       "      <td>0.1049</td>\n",
       "      <td>-0.002852</td>\n",
       "    </tr>\n",
       "    <tr>\n",
       "      <th>2024-11-21 16:35:00</th>\n",
       "      <td>0.1052</td>\n",
       "      <td>0.000000</td>\n",
       "    </tr>\n",
       "    <tr>\n",
       "      <th>2024-11-21 16:36:00</th>\n",
       "      <td>0.1053</td>\n",
       "      <td>0.000951</td>\n",
       "    </tr>\n",
       "  </tbody>\n",
       "</table>\n",
       "</div>"
      ],
      "text/plain": [
       "                      close    return\n",
       "date                                 \n",
       "2024-11-21 16:32:00  0.1052       NaN\n",
       "2024-11-21 16:33:00  0.1051 -0.000951\n",
       "2024-11-21 16:34:00  0.1049 -0.002852\n",
       "2024-11-21 16:35:00  0.1052  0.000000\n",
       "2024-11-21 16:36:00  0.1053  0.000951"
      ]
     },
     "metadata": {},
     "output_type": "display_data"
    }
   ],
   "source": [
    "printed=  0 \n",
    "for file in os.listdir(worst_performer_output_path):\n",
    "    if printed < 3 : \n",
    "        path = os.path.join(worst_performer_output_path, file)\n",
    "        df = pd.read_parquet(path)\n",
    "        display(df.head())\n",
    "        printed+=1"
   ]
  },
  {
   "cell_type": "markdown",
   "metadata": {},
   "source": [
    "### We calculate return for each dataframe"
   ]
  },
  {
   "cell_type": "markdown",
   "metadata": {},
   "source": [
    "### Quelques métriques"
   ]
  },
  {
   "cell_type": "code",
   "execution_count": 47,
   "metadata": {},
   "outputs": [],
   "source": [
    "def backtest_strategy(candle_data, take_profit_threshold, stop_loss_threshold):\n",
    "    results = {\n",
    "        'symbol': [],\n",
    "        'total_return': [],\n",
    "        'num_trades': [],\n",
    "        'winning_trades': [],\n",
    "        'losing_trades': [],\n",
    "        'win_rate': [],\n",
    "    }\n",
    "    total_metrics = {\"winning trade\" : 0, \"losing trade\" : 0}\n",
    "\n",
    "    for symbol, df in candle_data.items():\n",
    "        initial_investment = 1  \n",
    "        initial_price = df['close'].iloc[0]\n",
    "\n",
    "        df['cumret'] = (1 + df['close'].pct_change()).cumprod() - 1\n",
    "\n",
    "        take_profit_price = initial_price * (1 + take_profit_threshold / 100)\n",
    "        stop_loss_price = initial_price * (1 - stop_loss_threshold / 100)\n",
    "\n",
    "        trades = 0\n",
    "        wins = 0\n",
    "        losses = 0\n",
    "        final_return = None\n",
    "\n",
    "        for i in range(1, len(df)):\n",
    "            current_price = df['close'].iloc[i]\n",
    "\n",
    "            if current_price >= take_profit_price:\n",
    "                trades += 1\n",
    "                wins += 1\n",
    "                final_return = take_profit_price   \n",
    "                total_metrics[\"winning trade\"]+=1\n",
    "                break\n",
    "\n",
    "            elif current_price <= stop_loss_price:\n",
    "                trades += 1\n",
    "                losses += 1\n",
    "                final_return = stop_loss_price  \n",
    "                total_metrics[\"losing trade\"] +=1\n",
    "                break\n",
    "\n",
    "        if final_return is not None:\n",
    "            total_return = (final_return - initial_price) / initial_price \n",
    "        else:\n",
    "            total_return = 0        \n",
    "        win_rate = wins / trades if trades > 0 else 0\n",
    "        \n",
    "        # Enregistrer les résultats\n",
    "        results['symbol'].append(symbol)\n",
    "        results['total_return'].append(total_return)\n",
    "        results['num_trades'].append(trades)\n",
    "        results['winning_trades'].append(wins)\n",
    "        results['losing_trades'].append(losses)\n",
    "        results['win_rate'].append(win_rate)\n",
    "\n",
    "    return results, total_metrics\n",
    "\n",
    "# take_profit_threshold = 2 \n",
    "# stop_loss_threshold = 2  \n",
    "# strategy_results, total_metrics = backtest_strategy(candle_data, take_profit_threshold, stop_loss_threshold)\n",
    "\n",
    "# for i in range(len(strategy_results['symbol'])):\n",
    "#     print(f\"Symbol: {strategy_results['symbol'][i]}, Total Return: {strategy_results['total_return'][i]:.2%}, \"\n",
    "#           f\"Number of Trades: {strategy_results['num_trades'][i]}, Winning Trades: {strategy_results['winning_trades'][i]}, \"\n",
    "#           f\"Losing Trades: {strategy_results['losing_trades'][i]}, Win Rate: {strategy_results['win_rate'][i]:.2%}\")\n"
   ]
  },
  {
   "cell_type": "code",
   "execution_count": 48,
   "metadata": {},
   "outputs": [
    {
     "name": "stdout",
     "output_type": "stream",
     "text": [
      "[0.    0.005 0.01  0.015 0.02  0.025 0.03  0.035 0.04  0.045 0.05  0.055\n",
      " 0.06  0.065 0.07  0.075 0.08  0.085 0.09  0.095 0.1  ]\n"
     ]
    }
   ],
   "source": [
    "values = np.linspace(0, 0.1, 21)\n",
    "print(values)"
   ]
  },
  {
   "cell_type": "code",
   "execution_count": 73,
   "metadata": {},
   "outputs": [
    {
     "name": "stdout",
     "output_type": "stream",
     "text": [
      "Take Profit: 0.0, Stop Loss: 0.0\n",
      "Winning Trades: 680, Losing Trades: 665, Winning Ratio: 50.56%\n",
      "Take Profit: 0.005, Stop Loss: 0.005\n",
      "Winning Trades: 656, Losing Trades: 688, Winning Ratio: 48.81%\n",
      "Take Profit: 0.01, Stop Loss: 0.01\n",
      "Winning Trades: 677, Losing Trades: 663, Winning Ratio: 50.52%\n",
      "Take Profit: 0.015, Stop Loss: 0.015\n",
      "Winning Trades: 644, Losing Trades: 683, Winning Ratio: 48.53%\n",
      "Take Profit: 0.02, Stop Loss: 0.02\n",
      "Winning Trades: 648, Losing Trades: 657, Winning Ratio: 49.66%\n",
      "Take Profit: 0.025, Stop Loss: 0.025\n",
      "Winning Trades: 641, Losing Trades: 623, Winning Ratio: 50.71%\n",
      "Take Profit: 0.03, Stop Loss: 0.03\n",
      "Winning Trades: 629, Losing Trades: 570, Winning Ratio: 52.46%\n",
      "Take Profit: 0.035, Stop Loss: 0.035\n",
      "Winning Trades: 590, Losing Trades: 533, Winning Ratio: 52.54%\n",
      "Take Profit: 0.04, Stop Loss: 0.04\n",
      "Winning Trades: 570, Losing Trades: 471, Winning Ratio: 54.76%\n",
      "Take Profit: 0.045, Stop Loss: 0.045\n",
      "Winning Trades: 545, Losing Trades: 408, Winning Ratio: 57.19%\n",
      "Take Profit: 0.05, Stop Loss: 0.05\n",
      "Winning Trades: 509, Losing Trades: 361, Winning Ratio: 58.51%\n",
      "Take Profit: 0.055, Stop Loss: 0.055\n",
      "Winning Trades: 483, Losing Trades: 306, Winning Ratio: 61.22%\n",
      "Take Profit: 0.06, Stop Loss: 0.06\n",
      "Winning Trades: 452, Losing Trades: 280, Winning Ratio: 61.75%\n",
      "Take Profit: 0.065, Stop Loss: 0.065\n",
      "Winning Trades: 421, Losing Trades: 240, Winning Ratio: 63.69%\n",
      "Take Profit: 0.07, Stop Loss: 0.07\n",
      "Winning Trades: 392, Losing Trades: 218, Winning Ratio: 64.26%\n",
      "Take Profit: 0.075, Stop Loss: 0.075\n",
      "Winning Trades: 367, Losing Trades: 191, Winning Ratio: 65.77%\n",
      "Take Profit: 0.08, Stop Loss: 0.08\n",
      "Winning Trades: 348, Losing Trades: 164, Winning Ratio: 67.97%\n",
      "Take Profit: 0.085, Stop Loss: 0.085\n",
      "Winning Trades: 321, Losing Trades: 141, Winning Ratio: 69.48%\n",
      "Take Profit: 0.09, Stop Loss: 0.09\n",
      "Winning Trades: 301, Losing Trades: 117, Winning Ratio: 72.01%\n",
      "Take Profit: 0.095, Stop Loss: 0.095\n",
      "Winning Trades: 275, Losing Trades: 109, Winning Ratio: 71.61%\n",
      "Take Profit: 0.1, Stop Loss: 0.1\n",
      "Winning Trades: 259, Losing Trades: 100, Winning Ratio: 72.14%\n"
     ]
    }
   ],
   "source": [
    "import numpy as np\n",
    "take_profit_threshold = 2 \n",
    "stop_loss_threshold = 2  \n",
    "from itertools import product\n",
    "\n",
    "winning_ratios = {}\n",
    "\n",
    "for value in values:\n",
    "    tp = value\n",
    "    sl = value\n",
    "    print(f\"Take Profit: {tp}, Stop Loss: {sl}\")\n",
    "    winning, losing = perform_backtest(worst_performer_output_path, tp, sl)\n",
    "    ratio = winning / (winning + losing) \n",
    "    print(f\"Winning Trades: {winning}, Losing Trades: {losing}, Winning Ratio: {ratio:.2%}\")\n",
    "    # print(total_metrics)"
   ]
  },
  {
   "cell_type": "code",
   "execution_count": null,
   "metadata": {},
   "outputs": [],
   "source": []
  }
 ],
 "metadata": {
  "kernelspec": {
   "display_name": "conda-env_tariq",
   "language": "python",
   "name": "conda-env-conda-env_tariq-py"
  },
  "language_info": {
   "codemirror_mode": {
    "name": "ipython",
    "version": 3
   },
   "file_extension": ".py",
   "mimetype": "text/x-python",
   "name": "python",
   "nbconvert_exporter": "python",
   "pygments_lexer": "ipython3",
   "version": "3.8.16"
  }
 },
 "nbformat": 4,
 "nbformat_minor": 2
}
