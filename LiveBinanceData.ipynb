{
 "cells": [
  {
   "cell_type": "code",
   "execution_count": 37,
   "metadata": {},
   "outputs": [],
   "source": [
    "import pandas as pd\n",
    "import time\n",
    "import threading\n",
    "from tqdm import tqdm\n",
    "from binance.client import Client\n",
    "\n",
    "client = Client()"
   ]
  },
  {
   "cell_type": "markdown",
   "metadata": {},
   "source": [
    "### All tradable assets in this dictionnary"
   ]
  },
  {
   "cell_type": "code",
   "execution_count": 3,
   "metadata": {},
   "outputs": [],
   "source": [
    "info = client.get_exchange_info()"
   ]
  },
  {
   "cell_type": "code",
   "execution_count": 9,
   "metadata": {},
   "outputs": [],
   "source": [
    "symbols = [x['symbol'] for x in info['symbols']]"
   ]
  },
  {
   "cell_type": "code",
   "execution_count": 16,
   "metadata": {},
   "outputs": [
    {
     "data": {
      "text/plain": [
       "2766"
      ]
     },
     "execution_count": 16,
     "metadata": {},
     "output_type": "execute_result"
    }
   ],
   "source": [
    "len(symbols)"
   ]
  },
  {
   "cell_type": "code",
   "execution_count": 15,
   "metadata": {},
   "outputs": [],
   "source": [
    "#exclude leveraged tokens\n",
    "exclude = ['UP', 'DOWN', 'BEAR', 'BULL']\n",
    "non_lev = [ symbol for symbol in symbols if all(excludes not in symbol for excludes in exclude)]"
   ]
  },
  {
   "cell_type": "code",
   "execution_count": 14,
   "metadata": {},
   "outputs": [
    {
     "data": {
      "text/plain": [
       "2697"
      ]
     },
     "execution_count": 14,
     "metadata": {},
     "output_type": "execute_result"
    }
   ],
   "source": [
    "len(non_lev)"
   ]
  },
  {
   "cell_type": "markdown",
   "metadata": {},
   "source": [
    "### Keep only usdt pair"
   ]
  },
  {
   "cell_type": "code",
   "execution_count": 17,
   "metadata": {},
   "outputs": [],
   "source": [
    "relevant = [symbol for symbol in non_lev if symbol.endswith('USDT')]"
   ]
  },
  {
   "cell_type": "code",
   "execution_count": 19,
   "metadata": {},
   "outputs": [
    {
     "data": {
      "text/plain": [
       "471"
      ]
     },
     "execution_count": 19,
     "metadata": {},
     "output_type": "execute_result"
    }
   ],
   "source": [
    "len(relevant)"
   ]
  },
  {
   "cell_type": "code",
   "execution_count": 20,
   "metadata": {},
   "outputs": [],
   "source": [
    "klines = {}"
   ]
  },
  {
   "cell_type": "markdown",
   "metadata": {},
   "source": [
    "### Get 1 minute candles for each symbol"
   ]
  },
  {
   "cell_type": "code",
   "execution_count": 21,
   "metadata": {},
   "outputs": [
    {
     "name": "stderr",
     "output_type": "stream",
     "text": [
      "100%|██████████| 471/471 [04:22<00:00,  1.80it/s]\n"
     ]
    }
   ],
   "source": [
    "for symbol in tqdm(relevant) : \n",
    "    klines[symbol] = client.get_historical_klines(symbol, '1m', '1 hour ago UTC')"
   ]
  },
  {
   "cell_type": "code",
   "execution_count": 25,
   "metadata": {},
   "outputs": [
    {
     "data": {
      "text/plain": [
       "0.00021125056342108373"
      ]
     },
     "execution_count": 25,
     "metadata": {},
     "output_type": "execute_result"
    }
   ],
   "source": [
    "(pd.DataFrame(klines['BTCUSDT'])[4].astype(float).pct_change() + 1 ).prod() -1 #4 column is the close"
   ]
  },
  {
   "cell_type": "code",
   "execution_count": 26,
   "metadata": {},
   "outputs": [],
   "source": [
    "returns, symbols = [], []\n",
    "\n",
    "for symbol in relevant:\n",
    "    if len(klines[symbol]) > 0 : \n",
    "        cumret = (pd.DataFrame(klines[symbol])[4].astype(float).pct_change() + 1 ).prod() - 1\n",
    "        returns.append(cumret)\n",
    "        symbols.append(symbol)"
   ]
  },
  {
   "cell_type": "code",
   "execution_count": 27,
   "metadata": {},
   "outputs": [],
   "source": [
    "retdf = pd.DataFrame(returns, index=symbols, columns=['ret'])"
   ]
  },
  {
   "cell_type": "code",
   "execution_count": 28,
   "metadata": {},
   "outputs": [
    {
     "data": {
      "text/plain": [
       "API3USDT     0.043275\n",
       "OAXUSDT      0.034763\n",
       "ZECUSDT      0.024750\n",
       "DYDXUSDT     0.016505\n",
       "MOVRUSDT     0.015326\n",
       "FTTUSDT      0.014781\n",
       "RAYUSDT      0.012847\n",
       "BTTCUSDT     0.011628\n",
       "MAGICUSDT    0.010071\n",
       "AGLDUSDT     0.008056\n",
       "Name: ret, dtype: float64"
      ]
     },
     "execution_count": 28,
     "metadata": {},
     "output_type": "execute_result"
    }
   ],
   "source": [
    "retdf.ret.nlargest(10)"
   ]
  },
  {
   "cell_type": "markdown",
   "metadata": {},
   "source": [
    "### Function that return the top performers"
   ]
  },
  {
   "cell_type": "code",
   "execution_count": 34,
   "metadata": {},
   "outputs": [],
   "source": [
    "import pandas as pd\n",
    "\n",
    "def get_top_performer(client, interval, duration, n=10):\n",
    "    info = client.get_exchange_info()\n",
    "    symbols = [x['symbol'] for x in info['symbols']]\n",
    "    \n",
    "    #exclure les tokens à effet de levier\n",
    "    exclude = ['UP', 'DOWN', 'BEAR', 'BULL']\n",
    "    non_lev = [symbol for symbol in symbols if all(excludes not in symbol for excludes in exclude)]\n",
    "    relevant_symbols = [symbol for symbol in non_lev if symbol.endswith('USDT')]\n",
    "    \n",
    "    #récupérer les données de marché pour chaque symbole\n",
    "    returns, selected_symbols = [], []\n",
    "    for symbol in tqdm(relevant_symbols):\n",
    "        klines = client.get_historical_klines(symbol=symbol, interval=interval, start_str=duration)\n",
    "        \n",
    "        if len(klines) > 0:\n",
    "            #calcul du rendement cumulé\n",
    "            df = pd.DataFrame(klines)\n",
    "            df_close_prices = df[4].astype(float)  \n",
    "            cumret = (df_close_prices.pct_change() + 1).prod() - 1\n",
    "            \n",
    "            returns.append(cumret)\n",
    "            selected_symbols.append(symbol)\n",
    "    \n",
    "    #construire un DataFrame pour les rendements\n",
    "    retdf = pd.DataFrame(returns, index=selected_symbols, columns=['ret'])\n",
    "    return retdf.ret.nlargest(n)\n"
   ]
  },
  {
   "cell_type": "code",
   "execution_count": 35,
   "metadata": {},
   "outputs": [
    {
     "name": "stderr",
     "output_type": "stream",
     "text": [
      "100%|██████████| 471/471 [04:34<00:00,  1.72it/s]\n"
     ]
    }
   ],
   "source": [
    "top_performers = get_top_performer(client, '1m',  '10 minutes ago UTC', n=10)\n"
   ]
  },
  {
   "cell_type": "code",
   "execution_count": 36,
   "metadata": {},
   "outputs": [
    {
     "data": {
      "text/plain": [
       "KP3RUSDT     0.026362\n",
       "TROYUSDT     0.025681\n",
       "APEUSDT      0.018535\n",
       "RAYUSDT      0.008809\n",
       "TURBOUSDT    0.008788\n",
       "FTMUSDT      0.007834\n",
       "RIFUSDT      0.006674\n",
       "MEMEUSDT     0.005793\n",
       "SKLUSDT      0.005366\n",
       "OOKIUSDT     0.004673\n",
       "Name: ret, dtype: float64"
      ]
     },
     "execution_count": 36,
     "metadata": {},
     "output_type": "execute_result"
    }
   ],
   "source": [
    "top_performers"
   ]
  },
  {
   "cell_type": "markdown",
   "metadata": {},
   "source": [
    "### Same with multithreading, 20 time faster"
   ]
  },
  {
   "cell_type": "code",
   "execution_count": 49,
   "metadata": {},
   "outputs": [],
   "source": [
    "def get_history(client, symbol, interval, duration):\n",
    "    time.sleep(0.01)  #délai pour contourner la limite de l'API\n",
    "    return client.get_historical_klines(symbol=symbol, interval=interval, start_str=duration)\n",
    "\n",
    "def get_top_performer_multithreading(client, interval, duration, n=10):\n",
    "    #informations sur les symboles\n",
    "    info = client.get_exchange_info()\n",
    "    symbols = [x['symbol'] for x in info['symbols']]\n",
    "    #exclure les tokens à effet de levier\n",
    "    exclude = ['UP', 'DOWN', 'BEAR', 'BULL']\n",
    "    non_lev = [symbol for symbol in symbols if all(excludes not in symbol for excludes in exclude)]\n",
    "    relevant_symbols = [symbol for symbol in non_lev if symbol.endswith('USDT')]\n",
    "\n",
    "    #créer une liste pour stocker les données et une pour les rendements\n",
    "    returns, selected_symbols = [], []\n",
    "    klines_data = [None] * len(relevant_symbols)\n",
    "    \n",
    "    #fonction pour récupérer les données en parallèle\n",
    "    def _helper(i):\n",
    "        klines_data[i] = get_history(client, relevant_symbols[i], interval, duration)\n",
    "    \n",
    "    #créer et lancer les threads\n",
    "    threads = [threading.Thread(target=_helper, args=(i,)) for i in range(len(relevant_symbols))]\n",
    "    for thread in threads:\n",
    "        thread.start()\n",
    "    for thread in tqdm(threads):\n",
    "        thread.join()\n",
    "    \n",
    "    #calcul des rendements\n",
    "    for i, klines in enumerate(klines_data):\n",
    "        if klines and len(klines) > 0:\n",
    "            df = pd.DataFrame(klines)\n",
    "            df_close_prices = df[4].astype(float)  # La colonne des prix de clôture\n",
    "            cumret = (df_close_prices.pct_change() + 1).prod() - 1\n",
    "            returns.append(cumret)\n",
    "            selected_symbols.append(relevant_symbols[i])\n",
    "    \n",
    "    retdf = pd.DataFrame(returns, index=selected_symbols, columns=['ret'])\n",
    "    return retdf.ret.nlargest(n)"
   ]
  },
  {
   "cell_type": "code",
   "execution_count": 47,
   "metadata": {},
   "outputs": [
    {
     "name": "stderr",
     "output_type": "stream",
     "text": [
      "100%|██████████| 471/471 [00:08<00:00, 52.42it/s]\n"
     ]
    }
   ],
   "source": [
    "top_performers = get_top_performer_multithreading(client, '1m',  '5 minutes ago UTC', n=10)"
   ]
  },
  {
   "cell_type": "code",
   "execution_count": 48,
   "metadata": {},
   "outputs": [
    {
     "data": {
      "text/plain": [
       "BTTCUSDT     0.011494\n",
       "CREAMUSDT    0.006479\n",
       "PDAUSDT      0.004796\n",
       "PROMUSDT     0.004271\n",
       "SKLUSDT      0.003960\n",
       "SYNUSDT      0.003949\n",
       "DYMUSDT      0.003894\n",
       "TURBOUSDT    0.003881\n",
       "WOOUSDT      0.003753\n",
       "AAVEUSDT     0.003401\n",
       "Name: ret, dtype: float64"
      ]
     },
     "execution_count": 48,
     "metadata": {},
     "output_type": "execute_result"
    }
   ],
   "source": [
    "top_performers"
   ]
  },
  {
   "cell_type": "code",
   "execution_count": null,
   "metadata": {},
   "outputs": [],
   "source": []
  }
 ],
 "metadata": {
  "kernelspec": {
   "display_name": "Python 3",
   "language": "python",
   "name": "python3"
  },
  "language_info": {
   "codemirror_mode": {
    "name": "ipython",
    "version": 3
   },
   "file_extension": ".py",
   "mimetype": "text/x-python",
   "name": "python",
   "nbconvert_exporter": "python",
   "pygments_lexer": "ipython3",
   "version": "3.11.9"
  }
 },
 "nbformat": 4,
 "nbformat_minor": 2
}
