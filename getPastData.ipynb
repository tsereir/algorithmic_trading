{
 "cells": [
  {
   "cell_type": "code",
   "execution_count": 1,
   "metadata": {},
   "outputs": [],
   "source": [
    "import time as tm\n",
    "from datetime import time, timedelta, datetime\n",
    "import schedule\n",
    "import pandas as pd\n",
    "import threading\n",
    "from tqdm import tqdm\n",
    "from binance.client import Client\n",
    "\n",
    "from datetime import datetime, timedelta\n",
    "from dateutil.relativedelta import relativedelta\n",
    "import pandas as pd\n",
    "from joblib import Parallel, delayed\n",
    "import os\n",
    "import threading\n",
    "from tqdm import tqdm\n",
    "\n",
    "client = Client()\n",
    "\n",
    "def get_history(client, symbol, interval, start_str, end_str=None):\n",
    "    \"\"\"\n",
    "    Récupère les données historiques pour un ticker donné.\n",
    "    \"\"\"\n",
    "    tm.sleep(0.01)\n",
    "    return client.get_historical_klines(symbol=symbol, interval=interval, start_str=start_str, end_str=end_str)\n"
   ]
  },
  {
   "cell_type": "code",
   "execution_count": 2,
   "metadata": {},
   "outputs": [],
   "source": [
    "info = client.futures_exchange_info()\n",
    "\n",
    "symbols = [x['symbol'] for x in info['symbols']]\n",
    "exclude = ['UP', 'DOWN', 'BEAR', 'BULL']\n",
    "non_lev = [symbol for symbol in symbols if all(excludes not in symbol for excludes in exclude)]\n",
    "relevant_symbols = [symbol for symbol in non_lev if symbol.endswith('USDT')]"
   ]
  },
  {
   "cell_type": "code",
   "execution_count": 18,
   "metadata": {},
   "outputs": [],
   "source": [
    "from concurrent.futures import ThreadPoolExecutor, as_completed\n",
    "from requests.exceptions import ReadTimeout\n",
    "from pytz import timezone\n",
    "\n",
    "def get_performers_past(client, interval, start_date, end_date, n=1, worst=True, future=True):\n",
    "    \"\"\"\n",
    "    Identifie les meilleurs ou pires performeurs dans chaque plage horaire.\n",
    "    \"\"\"\n",
    "    paris_tz = timezone('Europe/Paris')\n",
    "\n",
    "    if future : \n",
    "        info = client.futures_exchange_info()\n",
    "    else: \n",
    "        info = client.get_exchange_info()\n",
    "        \n",
    "    symbols = [x['symbol'] for x in info['symbols']]\n",
    "    exclude = ['UP', 'DOWN', 'BEAR', 'BULL']\n",
    "    non_lev = [symbol for symbol in symbols if all(excludes not in symbol for excludes in exclude)]\n",
    "    relevant_symbols = [symbol for symbol in non_lev if symbol.endswith('USDT')]\n",
    "\n",
    "    all_results = []\n",
    "\n",
    "    date_range = []\n",
    "    current_time = start_date\n",
    "    while current_time < end_date:\n",
    "        date_range.append(current_time)\n",
    "        current_time += timedelta(hours=1)\n",
    "        \n",
    "    print(f\"start : {start_date}, end : {end_date}\")\n",
    "    print(\"Nombre de plage d'heure\", len(date_range))\n",
    "    for current_time in date_range : \n",
    "        print(\"Processing time range:\", current_time, \"to\", current_time + timedelta(hours=1))\n",
    "        next_time = current_time + timedelta(hours=1)\n",
    "\n",
    "        # Initialisation des listes pour cette période\n",
    "        returns, selected_symbols, dates = [], [], []\n",
    "        klines_data = [None] * len(relevant_symbols)\n",
    "\n",
    "        def _helper(klines_data, i):\n",
    "            try:\n",
    "                klines_data[i] = get_history(\n",
    "                    client, relevant_symbols[i], interval,\n",
    "                    start_str=current_time.strftime(\"%Y-%m-%d %H:%M:%S\"),\n",
    "                    end_str=next_time.strftime(\"%Y-%m-%d %H:%M:%S\")\n",
    "                )\n",
    "            except ReadTimeout:\n",
    "                print(f\"Timeout for {relevant_symbols[i]} during {current_time} -> {next_time}. Retrying...\")\n",
    "            except Exception:\n",
    "                pass\n",
    "\n",
    "        threads = [threading.Thread(target=_helper, args=(klines_data, i)) for i in range(len(relevant_symbols))]\n",
    "        for thread in threads:\n",
    "            thread.start()\n",
    "        for thread in tqdm(threads, desc=f\"Processing {current_time} -> {next_time}\"):\n",
    "            thread.join()\n",
    "\n",
    "        # Calculer les rendements\n",
    "        for i, klines in enumerate(klines_data):\n",
    "                # print(f\"{relevant_symbols[i]}: {len(klines) if klines else 0} klines retrieved.\")\n",
    "\n",
    "            if relevant_symbols[i] == 'BTTCUSDT':  \n",
    "                continue\n",
    "            if klines and len(klines) > 0:\n",
    "                df = pd.DataFrame(klines)\n",
    "                df_close_prices = df[4].astype(float)  # Prix de clôture\n",
    "                cumret = (df_close_prices.pct_change() + 1).prod() - 1\n",
    "\n",
    "                # start_date = pd.to_datetime(df.iloc[0, 0], unit='ms')\n",
    "                # end_date = pd.to_datetime(df.iloc[-1, 0], unit='ms')\n",
    "\n",
    "                #to have paris timezone\n",
    "                start_date = pd.to_datetime(df.iloc[0, 0], unit='ms').tz_localize('UTC').tz_convert(paris_tz)\n",
    "                end_date = pd.to_datetime(df.iloc[-1, 0], unit='ms').tz_localize('UTC').tz_convert(paris_tz)\n",
    "\n",
    "\n",
    "\n",
    "                returns.append(cumret)\n",
    "                selected_symbols.append(relevant_symbols[i])\n",
    "                dates.append((start_date, end_date))\n",
    "\n",
    "        retdf = pd.DataFrame({\n",
    "            'ret': returns,\n",
    "            'start_date': [d[0] for d in dates],\n",
    "            'end_date': [d[1] for d in dates]\n",
    "        }, index=selected_symbols)\n",
    "\n",
    "        if not retdf.empty:\n",
    "            if worst:\n",
    "                result = retdf.nsmallest(n, 'ret')\n",
    "            else:\n",
    "                result = retdf.nlargest(n, 'ret')\n",
    "\n",
    "            result['start_period'] = current_time\n",
    "            result['end_period'] = next_time\n",
    "            all_results.append(result)\n",
    "        else:\n",
    "            print(\"WARNING -- df EMPTY\")\n",
    "\n",
    "        current_time = next_time\n",
    "        # print(\"Finished processing:\", current_time)\n",
    "\n",
    "    return pd.concat(all_results).reset_index()\n"
   ]
  },
  {
   "cell_type": "code",
   "execution_count": 26,
   "metadata": {},
   "outputs": [
    {
     "name": "stdout",
     "output_type": "stream",
     "text": [
      "2024-12-08 13:00:00\n",
      "2024-12-09 13:00:00\n",
      "24\n"
     ]
    }
   ],
   "source": [
    "from datetime import datetime\n",
    "import time as tm\n",
    "from dateutil.relativedelta import relativedelta\n",
    "\n",
    "end_date = datetime(2024, 12, 9, 13)\n",
    "start_date = end_date - relativedelta(hours=24)\n",
    "\n",
    "\n",
    "print(start_date)\n",
    "print(end_date)\n",
    "\n",
    "diff_in_seconds = int((end_date - start_date).total_seconds())\n",
    "diff_in_hours = diff_in_seconds // 3600\n",
    "print(diff_in_hours)"
   ]
  },
  {
   "cell_type": "code",
   "execution_count": 30,
   "metadata": {},
   "outputs": [
    {
     "name": "stdout",
     "output_type": "stream",
     "text": [
      "start : 2024-12-08 13:00:00, end : 2024-12-09 13:00:00\n",
      "Nombre de plage d'heure 24\n",
      "Processing time range: 2024-12-08 13:00:00 to 2024-12-08 14:00:00\n"
     ]
    },
    {
     "name": "stderr",
     "output_type": "stream",
     "text": [
      "Processing 2024-12-08 13:00:00 -> 2024-12-08 14:00:00: 100%|██████████| 355/355 [00:08<00:00, 43.67it/s]\n"
     ]
    },
    {
     "name": "stdout",
     "output_type": "stream",
     "text": [
      "Processing time range: 2024-12-08 14:00:00 to 2024-12-08 15:00:00\n"
     ]
    },
    {
     "name": "stderr",
     "output_type": "stream",
     "text": [
      "Processing 2024-12-08 14:00:00 -> 2024-12-08 15:00:00: 100%|██████████| 355/355 [00:09<00:00, 37.98it/s]\n"
     ]
    },
    {
     "name": "stdout",
     "output_type": "stream",
     "text": [
      "Processing time range: 2024-12-08 15:00:00 to 2024-12-08 16:00:00\n"
     ]
    },
    {
     "name": "stderr",
     "output_type": "stream",
     "text": [
      "Processing 2024-12-08 15:00:00 -> 2024-12-08 16:00:00: 100%|██████████| 355/355 [00:09<00:00, 35.82it/s] \n"
     ]
    },
    {
     "name": "stdout",
     "output_type": "stream",
     "text": [
      "Processing time range: 2024-12-08 16:00:00 to 2024-12-08 17:00:00\n"
     ]
    },
    {
     "name": "stderr",
     "output_type": "stream",
     "text": [
      "Processing 2024-12-08 16:00:00 -> 2024-12-08 17:00:00: 100%|██████████| 355/355 [00:10<00:00, 34.70it/s]\n"
     ]
    },
    {
     "name": "stdout",
     "output_type": "stream",
     "text": [
      "Processing time range: 2024-12-08 17:00:00 to 2024-12-08 18:00:00\n"
     ]
    },
    {
     "name": "stderr",
     "output_type": "stream",
     "text": [
      "Processing 2024-12-08 17:00:00 -> 2024-12-08 18:00:00: 100%|██████████| 355/355 [00:09<00:00, 36.32it/s] \n"
     ]
    },
    {
     "name": "stdout",
     "output_type": "stream",
     "text": [
      "Processing time range: 2024-12-08 18:00:00 to 2024-12-08 19:00:00\n"
     ]
    },
    {
     "name": "stderr",
     "output_type": "stream",
     "text": [
      "Processing 2024-12-08 18:00:00 -> 2024-12-08 19:00:00: 100%|██████████| 355/355 [00:10<00:00, 33.80it/s] \n"
     ]
    },
    {
     "name": "stdout",
     "output_type": "stream",
     "text": [
      "Processing time range: 2024-12-08 19:00:00 to 2024-12-08 20:00:00\n"
     ]
    },
    {
     "name": "stderr",
     "output_type": "stream",
     "text": [
      "Processing 2024-12-08 19:00:00 -> 2024-12-08 20:00:00: 100%|██████████| 355/355 [00:10<00:00, 35.32it/s]\n"
     ]
    },
    {
     "name": "stdout",
     "output_type": "stream",
     "text": [
      "Processing time range: 2024-12-08 20:00:00 to 2024-12-08 21:00:00\n"
     ]
    },
    {
     "name": "stderr",
     "output_type": "stream",
     "text": [
      "Processing 2024-12-08 20:00:00 -> 2024-12-08 21:00:00: 100%|██████████| 355/355 [00:10<00:00, 34.83it/s] \n"
     ]
    },
    {
     "name": "stdout",
     "output_type": "stream",
     "text": [
      "Processing time range: 2024-12-08 21:00:00 to 2024-12-08 22:00:00\n"
     ]
    },
    {
     "name": "stderr",
     "output_type": "stream",
     "text": [
      "Processing 2024-12-08 21:00:00 -> 2024-12-08 22:00:00: 100%|██████████| 355/355 [00:10<00:00, 35.09it/s] \n"
     ]
    },
    {
     "name": "stdout",
     "output_type": "stream",
     "text": [
      "Processing time range: 2024-12-08 22:00:00 to 2024-12-08 23:00:00\n"
     ]
    },
    {
     "name": "stderr",
     "output_type": "stream",
     "text": [
      "Processing 2024-12-08 22:00:00 -> 2024-12-08 23:00:00: 100%|██████████| 355/355 [00:09<00:00, 38.24it/s] \n"
     ]
    },
    {
     "name": "stdout",
     "output_type": "stream",
     "text": [
      "Processing time range: 2024-12-08 23:00:00 to 2024-12-09 00:00:00\n"
     ]
    },
    {
     "name": "stderr",
     "output_type": "stream",
     "text": [
      "Processing 2024-12-08 23:00:00 -> 2024-12-09 00:00:00: 100%|██████████| 355/355 [00:09<00:00, 37.01it/s] \n"
     ]
    },
    {
     "name": "stdout",
     "output_type": "stream",
     "text": [
      "Processing time range: 2024-12-09 00:00:00 to 2024-12-09 01:00:00\n"
     ]
    },
    {
     "name": "stderr",
     "output_type": "stream",
     "text": [
      "Processing 2024-12-09 00:00:00 -> 2024-12-09 01:00:00: 100%|██████████| 355/355 [00:09<00:00, 36.36it/s] \n"
     ]
    },
    {
     "name": "stdout",
     "output_type": "stream",
     "text": [
      "Processing time range: 2024-12-09 01:00:00 to 2024-12-09 02:00:00\n"
     ]
    },
    {
     "name": "stderr",
     "output_type": "stream",
     "text": [
      "Processing 2024-12-09 01:00:00 -> 2024-12-09 02:00:00: 100%|██████████| 355/355 [00:05<00:00, 65.32it/s]\n"
     ]
    },
    {
     "name": "stdout",
     "output_type": "stream",
     "text": [
      "WARNING -- df EMPTY\n",
      "Processing time range: 2024-12-09 02:00:00 to 2024-12-09 03:00:00\n"
     ]
    },
    {
     "name": "stderr",
     "output_type": "stream",
     "text": [
      "Processing 2024-12-09 02:00:00 -> 2024-12-09 03:00:00: 100%|██████████| 355/355 [00:09<00:00, 35.57it/s] \n"
     ]
    },
    {
     "name": "stdout",
     "output_type": "stream",
     "text": [
      "Processing time range: 2024-12-09 03:00:00 to 2024-12-09 04:00:00\n"
     ]
    },
    {
     "name": "stderr",
     "output_type": "stream",
     "text": [
      "Processing 2024-12-09 03:00:00 -> 2024-12-09 04:00:00: 100%|██████████| 355/355 [00:10<00:00, 35.48it/s] \n"
     ]
    },
    {
     "name": "stdout",
     "output_type": "stream",
     "text": [
      "Processing time range: 2024-12-09 04:00:00 to 2024-12-09 05:00:00\n"
     ]
    },
    {
     "name": "stderr",
     "output_type": "stream",
     "text": [
      "Processing 2024-12-09 04:00:00 -> 2024-12-09 05:00:00: 100%|██████████| 355/355 [00:02<00:00, 129.62it/s]\n"
     ]
    },
    {
     "name": "stdout",
     "output_type": "stream",
     "text": [
      "Processing time range: 2024-12-09 05:00:00 to 2024-12-09 06:00:00\n"
     ]
    },
    {
     "name": "stderr",
     "output_type": "stream",
     "text": [
      "Processing 2024-12-09 05:00:00 -> 2024-12-09 06:00:00: 100%|██████████| 355/355 [00:01<00:00, 242.99it/s]\n"
     ]
    },
    {
     "name": "stdout",
     "output_type": "stream",
     "text": [
      "Processing time range: 2024-12-09 06:00:00 to 2024-12-09 07:00:00\n"
     ]
    },
    {
     "name": "stderr",
     "output_type": "stream",
     "text": [
      "Processing 2024-12-09 06:00:00 -> 2024-12-09 07:00:00: 100%|██████████| 355/355 [00:01<00:00, 229.95it/s]\n"
     ]
    },
    {
     "name": "stdout",
     "output_type": "stream",
     "text": [
      "Processing time range: 2024-12-09 07:00:00 to 2024-12-09 08:00:00\n"
     ]
    },
    {
     "name": "stderr",
     "output_type": "stream",
     "text": [
      "Processing 2024-12-09 07:00:00 -> 2024-12-09 08:00:00: 100%|██████████| 355/355 [00:00<00:00, 1123.26it/s]\n"
     ]
    },
    {
     "name": "stdout",
     "output_type": "stream",
     "text": [
      "WARNING -- df EMPTY\n",
      "Processing time range: 2024-12-09 08:00:00 to 2024-12-09 09:00:00\n"
     ]
    },
    {
     "name": "stderr",
     "output_type": "stream",
     "text": [
      "Processing 2024-12-09 08:00:00 -> 2024-12-09 09:00:00: 100%|██████████| 355/355 [00:01<00:00, 220.75it/s]\n"
     ]
    },
    {
     "name": "stdout",
     "output_type": "stream",
     "text": [
      "WARNING -- df EMPTY\n",
      "Processing time range: 2024-12-09 09:00:00 to 2024-12-09 10:00:00\n"
     ]
    },
    {
     "name": "stderr",
     "output_type": "stream",
     "text": [
      "Processing 2024-12-09 09:00:00 -> 2024-12-09 10:00:00: 100%|██████████| 355/355 [00:01<00:00, 315.59it/s]\n"
     ]
    },
    {
     "name": "stdout",
     "output_type": "stream",
     "text": [
      "WARNING -- df EMPTY\n",
      "Processing time range: 2024-12-09 10:00:00 to 2024-12-09 11:00:00\n"
     ]
    },
    {
     "name": "stderr",
     "output_type": "stream",
     "text": [
      "Processing 2024-12-09 10:00:00 -> 2024-12-09 11:00:00: 100%|██████████| 355/355 [00:01<00:00, 200.80it/s]\n"
     ]
    },
    {
     "name": "stdout",
     "output_type": "stream",
     "text": [
      "WARNING -- df EMPTY\n",
      "Processing time range: 2024-12-09 11:00:00 to 2024-12-09 12:00:00\n"
     ]
    },
    {
     "name": "stderr",
     "output_type": "stream",
     "text": [
      "Processing 2024-12-09 11:00:00 -> 2024-12-09 12:00:00: 100%|██████████| 355/355 [00:00<00:00, 1166.45it/s]\n"
     ]
    },
    {
     "name": "stdout",
     "output_type": "stream",
     "text": [
      "WARNING -- df EMPTY\n",
      "Processing time range: 2024-12-09 12:00:00 to 2024-12-09 13:00:00\n"
     ]
    },
    {
     "name": "stderr",
     "output_type": "stream",
     "text": [
      "Processing 2024-12-09 12:00:00 -> 2024-12-09 13:00:00: 100%|██████████| 355/355 [00:03<00:00, 117.88it/s]"
     ]
    },
    {
     "name": "stdout",
     "output_type": "stream",
     "text": [
      "WARNING -- df EMPTY\n",
      "Temps d'execution :  -210.73862314224243\n"
     ]
    },
    {
     "name": "stderr",
     "output_type": "stream",
     "text": [
      "\n"
     ]
    }
   ],
   "source": [
    "start_time = tm.time()\n",
    "df_normal = get_performers_past(\n",
    "    client=client,\n",
    "    interval='5m', \n",
    "    start_date=start_date,\n",
    "    end_date=end_date,\n",
    "    n=1,  \n",
    "    worst=True,  \n",
    "    future=True  \n",
    ")\n",
    "print(\"Temps d'execution : \", start_time - tm.time())"
   ]
  },
  {
   "cell_type": "code",
   "execution_count": 31,
   "metadata": {},
   "outputs": [
    {
     "name": "stdout",
     "output_type": "stream",
     "text": [
      "7 manquantes\n"
     ]
    },
    {
     "data": {
      "text/html": [
       "<div>\n",
       "<style scoped>\n",
       "    .dataframe tbody tr th:only-of-type {\n",
       "        vertical-align: middle;\n",
       "    }\n",
       "\n",
       "    .dataframe tbody tr th {\n",
       "        vertical-align: top;\n",
       "    }\n",
       "\n",
       "    .dataframe thead th {\n",
       "        text-align: right;\n",
       "    }\n",
       "</style>\n",
       "<table border=\"1\" class=\"dataframe\">\n",
       "  <thead>\n",
       "    <tr style=\"text-align: right;\">\n",
       "      <th></th>\n",
       "      <th>index</th>\n",
       "      <th>ret</th>\n",
       "      <th>start_date</th>\n",
       "      <th>end_date</th>\n",
       "      <th>start_period</th>\n",
       "      <th>end_period</th>\n",
       "    </tr>\n",
       "  </thead>\n",
       "  <tbody>\n",
       "    <tr>\n",
       "      <th>0</th>\n",
       "      <td>QNTUSDT</td>\n",
       "      <td>-0.021277</td>\n",
       "      <td>2024-12-08 14:00:00+01:00</td>\n",
       "      <td>2024-12-08 15:00:00+01:00</td>\n",
       "      <td>2024-12-08 13:00:00</td>\n",
       "      <td>2024-12-08 14:00:00</td>\n",
       "    </tr>\n",
       "    <tr>\n",
       "      <th>1</th>\n",
       "      <td>ACXUSDT</td>\n",
       "      <td>-0.061161</td>\n",
       "      <td>2024-12-08 15:00:00+01:00</td>\n",
       "      <td>2024-12-08 16:00:00+01:00</td>\n",
       "      <td>2024-12-08 14:00:00</td>\n",
       "      <td>2024-12-08 15:00:00</td>\n",
       "    </tr>\n",
       "    <tr>\n",
       "      <th>2</th>\n",
       "      <td>ONEUSDT</td>\n",
       "      <td>-0.023169</td>\n",
       "      <td>2024-12-08 16:00:00+01:00</td>\n",
       "      <td>2024-12-08 17:00:00+01:00</td>\n",
       "      <td>2024-12-08 15:00:00</td>\n",
       "      <td>2024-12-08 16:00:00</td>\n",
       "    </tr>\n",
       "    <tr>\n",
       "      <th>3</th>\n",
       "      <td>UMAUSDT</td>\n",
       "      <td>-0.093864</td>\n",
       "      <td>2024-12-08 17:00:00+01:00</td>\n",
       "      <td>2024-12-08 18:00:00+01:00</td>\n",
       "      <td>2024-12-08 16:00:00</td>\n",
       "      <td>2024-12-08 17:00:00</td>\n",
       "    </tr>\n",
       "    <tr>\n",
       "      <th>4</th>\n",
       "      <td>TRUUSDT</td>\n",
       "      <td>-0.025292</td>\n",
       "      <td>2024-12-08 18:00:00+01:00</td>\n",
       "      <td>2024-12-08 19:00:00+01:00</td>\n",
       "      <td>2024-12-08 17:00:00</td>\n",
       "      <td>2024-12-08 18:00:00</td>\n",
       "    </tr>\n",
       "    <tr>\n",
       "      <th>5</th>\n",
       "      <td>CELRUSDT</td>\n",
       "      <td>-0.026407</td>\n",
       "      <td>2024-12-08 19:00:00+01:00</td>\n",
       "      <td>2024-12-08 20:00:00+01:00</td>\n",
       "      <td>2024-12-08 18:00:00</td>\n",
       "      <td>2024-12-08 19:00:00</td>\n",
       "    </tr>\n",
       "    <tr>\n",
       "      <th>6</th>\n",
       "      <td>IDEXUSDT</td>\n",
       "      <td>-0.059620</td>\n",
       "      <td>2024-12-08 20:00:00+01:00</td>\n",
       "      <td>2024-12-08 21:00:00+01:00</td>\n",
       "      <td>2024-12-08 19:00:00</td>\n",
       "      <td>2024-12-08 20:00:00</td>\n",
       "    </tr>\n",
       "    <tr>\n",
       "      <th>7</th>\n",
       "      <td>AMBUSDT</td>\n",
       "      <td>-0.023488</td>\n",
       "      <td>2024-12-08 21:00:00+01:00</td>\n",
       "      <td>2024-12-08 22:00:00+01:00</td>\n",
       "      <td>2024-12-08 20:00:00</td>\n",
       "      <td>2024-12-08 21:00:00</td>\n",
       "    </tr>\n",
       "    <tr>\n",
       "      <th>8</th>\n",
       "      <td>1MBABYDOGEUSDT</td>\n",
       "      <td>-0.031001</td>\n",
       "      <td>2024-12-08 22:00:00+01:00</td>\n",
       "      <td>2024-12-08 23:00:00+01:00</td>\n",
       "      <td>2024-12-08 21:00:00</td>\n",
       "      <td>2024-12-08 22:00:00</td>\n",
       "    </tr>\n",
       "    <tr>\n",
       "      <th>9</th>\n",
       "      <td>IDEXUSDT</td>\n",
       "      <td>-0.070470</td>\n",
       "      <td>2024-12-08 23:00:00+01:00</td>\n",
       "      <td>2024-12-09 00:00:00+01:00</td>\n",
       "      <td>2024-12-08 22:00:00</td>\n",
       "      <td>2024-12-08 23:00:00</td>\n",
       "    </tr>\n",
       "    <tr>\n",
       "      <th>10</th>\n",
       "      <td>CRVUSDT</td>\n",
       "      <td>-0.017688</td>\n",
       "      <td>2024-12-09 00:00:00+01:00</td>\n",
       "      <td>2024-12-09 01:00:00+01:00</td>\n",
       "      <td>2024-12-08 23:00:00</td>\n",
       "      <td>2024-12-09 00:00:00</td>\n",
       "    </tr>\n",
       "    <tr>\n",
       "      <th>11</th>\n",
       "      <td>XRPUSDT</td>\n",
       "      <td>-0.034126</td>\n",
       "      <td>2024-12-09 01:00:00+01:00</td>\n",
       "      <td>2024-12-09 02:00:00+01:00</td>\n",
       "      <td>2024-12-09 00:00:00</td>\n",
       "      <td>2024-12-09 01:00:00</td>\n",
       "    </tr>\n",
       "    <tr>\n",
       "      <th>12</th>\n",
       "      <td>IDEXUSDT</td>\n",
       "      <td>-0.053292</td>\n",
       "      <td>2024-12-09 03:00:00+01:00</td>\n",
       "      <td>2024-12-09 04:00:00+01:00</td>\n",
       "      <td>2024-12-09 02:00:00</td>\n",
       "      <td>2024-12-09 03:00:00</td>\n",
       "    </tr>\n",
       "    <tr>\n",
       "      <th>13</th>\n",
       "      <td>SNTUSDT</td>\n",
       "      <td>-0.075362</td>\n",
       "      <td>2024-12-09 04:00:00+01:00</td>\n",
       "      <td>2024-12-09 05:00:00+01:00</td>\n",
       "      <td>2024-12-09 03:00:00</td>\n",
       "      <td>2024-12-09 04:00:00</td>\n",
       "    </tr>\n",
       "    <tr>\n",
       "      <th>14</th>\n",
       "      <td>SNTUSDT</td>\n",
       "      <td>-0.066581</td>\n",
       "      <td>2024-12-09 05:00:00+01:00</td>\n",
       "      <td>2024-12-09 06:00:00+01:00</td>\n",
       "      <td>2024-12-09 04:00:00</td>\n",
       "      <td>2024-12-09 05:00:00</td>\n",
       "    </tr>\n",
       "    <tr>\n",
       "      <th>15</th>\n",
       "      <td>RADUSDT</td>\n",
       "      <td>-0.023395</td>\n",
       "      <td>2024-12-09 06:00:00+01:00</td>\n",
       "      <td>2024-12-09 07:00:00+01:00</td>\n",
       "      <td>2024-12-09 05:00:00</td>\n",
       "      <td>2024-12-09 06:00:00</td>\n",
       "    </tr>\n",
       "    <tr>\n",
       "      <th>16</th>\n",
       "      <td>ARPAUSDT</td>\n",
       "      <td>-0.035349</td>\n",
       "      <td>2024-12-09 07:00:00+01:00</td>\n",
       "      <td>2024-12-09 08:00:00+01:00</td>\n",
       "      <td>2024-12-09 06:00:00</td>\n",
       "      <td>2024-12-09 07:00:00</td>\n",
       "    </tr>\n",
       "  </tbody>\n",
       "</table>\n",
       "</div>"
      ],
      "text/plain": [
       "             index       ret                start_date  \\\n",
       "0          QNTUSDT -0.021277 2024-12-08 14:00:00+01:00   \n",
       "1          ACXUSDT -0.061161 2024-12-08 15:00:00+01:00   \n",
       "2          ONEUSDT -0.023169 2024-12-08 16:00:00+01:00   \n",
       "3          UMAUSDT -0.093864 2024-12-08 17:00:00+01:00   \n",
       "4          TRUUSDT -0.025292 2024-12-08 18:00:00+01:00   \n",
       "5         CELRUSDT -0.026407 2024-12-08 19:00:00+01:00   \n",
       "6         IDEXUSDT -0.059620 2024-12-08 20:00:00+01:00   \n",
       "7          AMBUSDT -0.023488 2024-12-08 21:00:00+01:00   \n",
       "8   1MBABYDOGEUSDT -0.031001 2024-12-08 22:00:00+01:00   \n",
       "9         IDEXUSDT -0.070470 2024-12-08 23:00:00+01:00   \n",
       "10         CRVUSDT -0.017688 2024-12-09 00:00:00+01:00   \n",
       "11         XRPUSDT -0.034126 2024-12-09 01:00:00+01:00   \n",
       "12        IDEXUSDT -0.053292 2024-12-09 03:00:00+01:00   \n",
       "13         SNTUSDT -0.075362 2024-12-09 04:00:00+01:00   \n",
       "14         SNTUSDT -0.066581 2024-12-09 05:00:00+01:00   \n",
       "15         RADUSDT -0.023395 2024-12-09 06:00:00+01:00   \n",
       "16        ARPAUSDT -0.035349 2024-12-09 07:00:00+01:00   \n",
       "\n",
       "                    end_date        start_period          end_period  \n",
       "0  2024-12-08 15:00:00+01:00 2024-12-08 13:00:00 2024-12-08 14:00:00  \n",
       "1  2024-12-08 16:00:00+01:00 2024-12-08 14:00:00 2024-12-08 15:00:00  \n",
       "2  2024-12-08 17:00:00+01:00 2024-12-08 15:00:00 2024-12-08 16:00:00  \n",
       "3  2024-12-08 18:00:00+01:00 2024-12-08 16:00:00 2024-12-08 17:00:00  \n",
       "4  2024-12-08 19:00:00+01:00 2024-12-08 17:00:00 2024-12-08 18:00:00  \n",
       "5  2024-12-08 20:00:00+01:00 2024-12-08 18:00:00 2024-12-08 19:00:00  \n",
       "6  2024-12-08 21:00:00+01:00 2024-12-08 19:00:00 2024-12-08 20:00:00  \n",
       "7  2024-12-08 22:00:00+01:00 2024-12-08 20:00:00 2024-12-08 21:00:00  \n",
       "8  2024-12-08 23:00:00+01:00 2024-12-08 21:00:00 2024-12-08 22:00:00  \n",
       "9  2024-12-09 00:00:00+01:00 2024-12-08 22:00:00 2024-12-08 23:00:00  \n",
       "10 2024-12-09 01:00:00+01:00 2024-12-08 23:00:00 2024-12-09 00:00:00  \n",
       "11 2024-12-09 02:00:00+01:00 2024-12-09 00:00:00 2024-12-09 01:00:00  \n",
       "12 2024-12-09 04:00:00+01:00 2024-12-09 02:00:00 2024-12-09 03:00:00  \n",
       "13 2024-12-09 05:00:00+01:00 2024-12-09 03:00:00 2024-12-09 04:00:00  \n",
       "14 2024-12-09 06:00:00+01:00 2024-12-09 04:00:00 2024-12-09 05:00:00  \n",
       "15 2024-12-09 07:00:00+01:00 2024-12-09 05:00:00 2024-12-09 06:00:00  \n",
       "16 2024-12-09 08:00:00+01:00 2024-12-09 06:00:00 2024-12-09 07:00:00  "
      ]
     },
     "execution_count": 31,
     "metadata": {},
     "output_type": "execute_result"
    }
   ],
   "source": [
    "if len(df_normal) == diff_in_hours : \n",
    "    print(\"bon nombre de performers récuperer\")\n",
    "else :\n",
    "    print(diff_in_hours - len(df_normal) , \"manquantes\" )\n",
    "df_normal"
   ]
  },
  {
   "cell_type": "code",
   "execution_count": 93,
   "metadata": {},
   "outputs": [],
   "source": [
    "worst_performers.to_parquet(\"C:\\\\Users\\\\tariq\\\\algorithmic_trading\\\\data\\\\futures\\\\1hour\\\\test.parquet\")\n"
   ]
  },
  {
   "cell_type": "code",
   "execution_count": null,
   "metadata": {},
   "outputs": [],
   "source": []
  }
 ],
 "metadata": {
  "kernelspec": {
   "display_name": "Python 3",
   "language": "python",
   "name": "python3"
  },
  "language_info": {
   "codemirror_mode": {
    "name": "ipython",
    "version": 3
   },
   "file_extension": ".py",
   "mimetype": "text/x-python",
   "name": "python",
   "nbconvert_exporter": "python",
   "pygments_lexer": "ipython3",
   "version": "3.11.9"
  }
 },
 "nbformat": 4,
 "nbformat_minor": 2
}
